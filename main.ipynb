{
 "cells": [
  {
   "cell_type": "code",
   "execution_count": 1,
   "id": "57869663-384b-48a4-89b5-c8c22e84de1e",
   "metadata": {},
   "outputs": [
    {
     "name": "stdout",
     "output_type": "stream",
     "text": [
      "INFO: found the following HEIC files ['test - Kopie (2).HEIC', 'test - Kopie.HEIC', 'test.HEIC']\n",
      "INFO: starting conversion from HEIC to PNG\n",
      "\tINFO: converting test - Kopie (2).HEIC\n",
      "\tINFO: converting test - Kopie.HEIC\n",
      "\tINFO: converting test.HEIC\n",
      "----- STEP HAS FINISHED -----\n"
     ]
    }
   ],
   "source": [
    "# Convert HEIC images into PNG\n",
    "\n",
    "import os\n",
    "CWD = os.getcwd()\n",
    "RAW_INPUT_IMAGES_PATH = f\"{CWD}/data/raw_input_images\"\n",
    "INPUT_IMAGES_PATH = f\"{CWD}/data/input_images\"\n",
    "\n",
    "!mkdir -p {INPUT_IMAGES_PATH}\n",
    "!mkdir -p {RAW_INPUT_IMAGES_PATH}\n",
    "\n",
    "heic_files = [f for f in os.listdir(RAW_INPUT_IMAGES_PATH) if f.endswith('.HEIC') or f.endswith('.heic')]\n",
    "print(f\"INFO: found the following HEIC files {heic_files}\")\n",
    "\n",
    "import pyheif\n",
    "from PIL import Image\n",
    "import piexif\n",
    "\n",
    "def extract_exif_metadata_from_file(file):\n",
    "    for md_block in file.metadata:\n",
    "        if md_block['type'] == 'Exif':\n",
    "           return md_block['data']\n",
    "    raise Exception(\"ERROR: no EXIF metadata found\")\n",
    "    return None\n",
    "\n",
    "print(f\"INFO: starting conversion from HEIC to PNG\")\n",
    "for filename in heic_files:\n",
    "    print(f\"\\tINFO: converting {filename}\")\n",
    "    heic_file = pyheif.read(os.path.join(RAW_INPUT_IMAGES_PATH, filename))\n",
    "    image = Image.frombytes(heic_file.mode, heic_file.size, heic_file.data)\n",
    "    out_file_name = os.path.join(INPUT_IMAGES_PATH, os.path.splitext(filename)[0] + '.png')\n",
    "    image.save(out_file_name)\n",
    "\n",
    "    # Copy EXIF metadata from HEIC file to PNG file\n",
    "    #raw_exif_bytes = extract_exif_metadata_from_file(heic_file)\n",
    "    #exif_data = piexif.load(raw_exif_bytes)\n",
    "    #print(exif_data)\n",
    "    #piexif.insert(raw_exif_bytes, out_file_name)\n",
    "\n",
    "# TODO: Does the metadata need to be copied for some purpose?\n",
    "# I think yes, because we can then calculate delta between old camera and new camera and adjust settings accordingly\n",
    "\n",
    "print(f\"----- STEP HAS FINISHED -----\")"
   ]
  },
  {
   "cell_type": "code",
   "execution_count": 2,
   "id": "7c7edcc6-21a7-4d35-9803-b11fd98f4be8",
   "metadata": {},
   "outputs": [
    {
     "name": "stdout",
     "output_type": "stream",
     "text": [
      "INFO: selected Hasselblad 500 C/M as the active camera\n",
      "----- STEP HAS FINISHED -----\n"
     ]
    }
   ],
   "source": [
    "# set camera options, active camera and blender composition node mapping\n",
    "CAMERA_SETTINGS = {\n",
    "    'hasselblad_500_cm': {\n",
    "        'model_name': \"Hasselblad 500 C/M\",\n",
    "        'aspect_ratio': { # 1:1 ratio\n",
    "            'x': 9,\n",
    "            'y': 9\n",
    "        },\n",
    "        'blender_node_group': \"Camera: Hasselblad 500 C/M\",\n",
    "        'options': {}\n",
    "    },\n",
    "    'werra_mat': {\n",
    "        'model_name': \"Werra Mat\",\n",
    "        'aspect_ratio': { # 3:2 ratio\n",
    "            'x': 24,\n",
    "            'y': 36\n",
    "        },\n",
    "        'blender_node_group': \"Camera: Werra Mat\",\n",
    "        'options': {}\n",
    "    },\n",
    "    'agfa_isolette': {\n",
    "        'model_name': \"Agfa Isolette\",\n",
    "        'aspect_ratio': { # 1:1 ratio\n",
    "            'x': 6,\n",
    "            'y': 6\n",
    "        },\n",
    "        'blender_node_group': \"Camera: Agfar Isolette\",\n",
    "        'options': {}\n",
    "    },\n",
    "    'agfa_isolette_damaged': {\n",
    "        'model_name': \"Agfa Isolette\",\n",
    "        'aspect_ratio': { # 1:1 ratio\n",
    "            'x': 6,\n",
    "            'y': 6\n",
    "        },\n",
    "        'blender_node_group': \"Camera: Agfar Isolette (with damage)\",\n",
    "        'options': {}\n",
    "    }\n",
    "}\n",
    "\n",
    "ACTIVE_CAMERA_MODEL = CAMERA_SETTINGS[\"hasselblad_500_cm\"]\n",
    "print(f\"INFO: selected {ACTIVE_CAMERA_MODEL['model_name']} as the active camera\")\n",
    "\n",
    "print(f\"----- STEP HAS FINISHED -----\")"
   ]
  },
  {
   "cell_type": "code",
   "execution_count": 3,
   "id": "b222ec36-d6a0-4a08-90e6-9fa9b1be7fbc",
   "metadata": {},
   "outputs": [
    {
     "name": "stdout",
     "output_type": "stream",
     "text": [
      "INFO: found input files ['test - Kopie (2).png', 'test - Kopie.png', 'test.png']\n",
      "INFO: starting to apply image filters for camera Hasselblad 500 C/M\n",
      "\tINFO: image test - Kopie (2).png\n",
      "\tINFO: step 1: cropping image\n",
      "\tINFO: step 2: applying filter\n",
      "\tINFO: image test - Kopie.png\n",
      "\tINFO: step 1: cropping image\n",
      "\tINFO: step 2: applying filter\n",
      "\tINFO: image test.png\n",
      "\tINFO: step 1: cropping image\n",
      "\tINFO: step 2: applying filter\n",
      "----- STEP HAS FINISHED -----\n"
     ]
    }
   ],
   "source": [
    "OUTPUT_IMAGES_PATH = f\"{CWD}/data/output_images\"\n",
    "# reinitialize output image folder\n",
    "!rm -rf {OUTPUT_IMAGES_PATH}\n",
    "!mkdir -p {OUTPUT_IMAGES_PATH}\n",
    "\n",
    "from PIL import Image\n",
    "\n",
    "def crop_to_aspect_ratio(image, w, h):\n",
    "    # Calculate the target aspect ratio\n",
    "    target_aspect_ratio = w / h\n",
    "    \n",
    "    # Get the original dimensions\n",
    "    original_width, original_height = image.size\n",
    "    \n",
    "    # Determine the dimensions for the new aspect ratio\n",
    "    new_width = original_width\n",
    "    new_height = int(new_width / target_aspect_ratio)\n",
    "    \n",
    "    # If the calculated height is greater than the original, recalculate the width instead\n",
    "    if new_height > original_height:\n",
    "        new_height = original_height\n",
    "        new_width = int(new_height * target_aspect_ratio)\n",
    "    \n",
    "    # Calculate the cropping area\n",
    "    left = (original_width - new_width) / 2\n",
    "    top = (original_height - new_height) / 2\n",
    "    right = (original_width + new_width) / 2\n",
    "    bottom = (original_height + new_height) / 2\n",
    "    \n",
    "    # Crop the image to the new aspect ratio\n",
    "    cropped_image = image.crop((left, top, right, bottom))\n",
    "    return cropped_image\n",
    "\n",
    "    # Save or display the cropped image\n",
    "    #cropped_image.save(output_path)\n",
    "    #cropped_image.show()\n",
    "\n",
    "\n",
    "input_files = [f for f in os.listdir(INPUT_IMAGES_PATH) if f.endswith('.PNG') or f.endswith('.png')]\n",
    "print(f\"INFO: found input files {input_files}\")\n",
    "\n",
    "print(f\"INFO: starting to apply image filters for camera {ACTIVE_CAMERA_MODEL['model_name']}\")\n",
    "for filename in input_files:\n",
    "    in_file_path = f\"{INPUT_IMAGES_PATH}/{str(filename)}\"\n",
    "    image = Image.open(in_file_path)\n",
    "    \n",
    "    print(f\"\\tINFO: image {filename}\")\n",
    "    print(f\"\\tINFO: step 1: cropping image\")\n",
    "    cropped_image = crop_to_aspect_ratio(image, ACTIVE_CAMERA_MODEL['aspect_ratio']['x'], ACTIVE_CAMERA_MODEL['aspect_ratio']['y'])\n",
    "    out_file_name = os.path.join(OUTPUT_IMAGES_PATH, os.path.splitext(filename)[0] + '.png')\n",
    "    cropped_image.save(out_file_name)\n",
    "\n",
    "\n",
    "print(f\"----- STEP HAS FINISHED -----\")"
   ]
  },
  {
   "cell_type": "code",
   "execution_count": 11,
   "id": "0ea8ea8a-b1b1-4ff0-8c1f-18f523b51fcc",
   "metadata": {},
   "outputs": [
    {
     "name": "stdout",
     "output_type": "stream",
     "text": [
      "if you dont have blender installed in this env, use this command to run in your env where you have it:\n"
     ]
    },
    {
     "data": {
      "text/plain": [
       "'blender \"D:/dev/python/make-photographs-historical/blender/main.blend\" -b --python \"D:/dev/python/make-photographs-historical/blender/scripts/batch_composite.py\" -- \"Camera: Hasselblad 500 C/M\" \"D:/dev/python/make-photographs-historical/data/input_images\" \"D:/dev/python/make-photographs-historical/data/output_images_filtered\"'"
      ]
     },
     "execution_count": 11,
     "metadata": {},
     "output_type": "execute_result"
    }
   ],
   "source": [
    "BLENDER_SCRIPT_PATH = f\"{CWD}/blender/scripts/batch_composite.py\"\n",
    "BLENDER_SCENE_PATH = f\"{CWD}/blender/main.blend\"\n",
    "ACTIVE_FILTER_NAME = ACTIVE_CAMERA_MODEL['blender_node_group']\n",
    "OUTPUT_IMAGES_PATH_FINAL = f\"{OUTPUT_IMAGES_PATH}_filtered\"\n",
    "\n",
    "!rm -rf {OUTPUT_IMAGES_PATH_FINAL}\n",
    "!mkdir -p {OUTPUT_IMAGES_PATH_FINAL}\n",
    "\n",
    "# start blender with a scene in background and execute script\n",
    "# call like that 'python test.py -- <FILTER_NAME> <INPUT_PATH> <OUTPUT_PATH>\n",
    "!blender {BLENDER_SCENE_PATH} -b --python {BLENDER_SCRIPT_PATH} -- {ACTIVE_FILTER_NAME} {OUTPUT_IMAGES_PATH} {OUTPUT_IMAGES_PATH_FINAL}"
   ]
  }
 ],
 "metadata": {
  "kernelspec": {
   "display_name": "Python 3 (ipykernel)",
   "language": "python",
   "name": "python3"
  },
  "language_info": {
   "codemirror_mode": {
    "name": "ipython",
    "version": 3
   },
   "file_extension": ".py",
   "mimetype": "text/x-python",
   "name": "python",
   "nbconvert_exporter": "python",
   "pygments_lexer": "ipython3",
   "version": "3.10.13"
  }
 },
 "nbformat": 4,
 "nbformat_minor": 5
}
